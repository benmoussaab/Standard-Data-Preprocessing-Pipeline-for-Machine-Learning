{
 "cells": [
  {
   "cell_type": "code",
   "execution_count": 1,
   "id": "093d9818-a8e9-43e9-bc4d-7ba7d0253251",
   "metadata": {},
   "outputs": [],
   "source": [
    "import numpy as np\n",
    "import pandas as pd\n",
    "from sklearn.model_selection import train_test_split\n",
    "from sklearn.impute import SimpleImputer\n",
    "from sklearn.preprocessing import StandardScaler\n",
    "import category_encoders as ce\n",
    "pd.set_option('display.max_columns',None)"
   ]
  },
  {
   "cell_type": "code",
   "execution_count": null,
   "id": "91dd7a6a-29e7-4100-896c-c75cee8018cf",
   "metadata": {},
   "outputs": [],
   "source": [
    "\n",
    "# Assuming 'df' is your DataFrame\n",
    "\n",
    "# Drop unwanted columns\n",
    "#df = df.drop(columns=['Unnamed: 0', 'Prospect ID'...])\n",
    "\n",
    "# Impute missing values for numeric columns (with median)\n",
    "numeric_cols = df.select_dtypes(include=['float64', 'int64']).columns\n",
    "numeric_imputer = SimpleImputer(strategy='median')\n",
    "df[numeric_cols] = numeric_imputer.fit_transform(df[numeric_cols])\n",
    "\n",
    "# Impute missing values for categorical columns (with mode)\n",
    "categorical_cols = df.select_dtypes(include=['category', 'object']).columns\n",
    "categorical_imputer = SimpleImputer(strategy='most_frequent')\n",
    "df[categorical_cols] = categorical_imputer.fit_transform(df[categorical_cols])\n",
    "\n",
    "# Handle rare categories by grouping them as 'Other' (threshold 0.05)\n",
    "for col in categorical_cols:\n",
    "    value_counts = df[col].value_counts(normalize=True)\n",
    "    low_freq = value_counts[value_counts < 0.05].index\n",
    "    df[col] = df[col].apply(lambda x: 'Other' if x in low_freq else x)\n",
    "\n",
    "# One-Hot Encoding for all categorical predictors\n",
    "df = pd.get_dummies(df, drop_first=False)\n",
    "\n",
    "# Normalize numeric columns\n",
    "scaler = StandardScaler()\n",
    "df[numeric_cols] = scaler.fit_transform(df[numeric_cols])\n",
    "\n",
    "# Split data into X (features) and y (target)\n",
    "\n",
    "\n",
    "#X = df.drop(columns=['terget'])\n",
    "#y = df['terget']\n"
   ]
  }
 ],
 "metadata": {
  "kernelspec": {
   "display_name": "Python 3 (ipykernel)",
   "language": "python",
   "name": "python3"
  },
  "language_info": {
   "codemirror_mode": {
    "name": "ipython",
    "version": 3
   },
   "file_extension": ".py",
   "mimetype": "text/x-python",
   "name": "python",
   "nbconvert_exporter": "python",
   "pygments_lexer": "ipython3",
   "version": "3.12.5"
  }
 },
 "nbformat": 4,
 "nbformat_minor": 5
}
